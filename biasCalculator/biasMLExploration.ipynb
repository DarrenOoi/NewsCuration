{
 "cells": [
  {
   "cell_type": "markdown",
   "metadata": {},
   "source": [
    "# Bias Score Calculator, an exploration "
   ]
  },
  {
   "cell_type": "markdown",
   "metadata": {},
   "source": [
    "As part of the team project, a bias scoring tool is required to be developed such that articles may be evaluated and provide the user an easy to interpret quantitative measure of the articles' factual quality.\n",
    "\n",
    "Researching various APIs to find an already built tool to streamline and accelerate the protoyping process yielded little results with the only 'sentiment analysis' tools such as VADER being available. roughly testing it on news articles didnt show promise however.\n",
    "\n",
    "To more thouroughly test its effectiveness and develop a final solution, this report is being written."
   ]
  },
  {
   "cell_type": "code",
   "execution_count": 25,
   "metadata": {},
   "outputs": [],
   "source": [
    "import pandas as pd\n",
    "import numpy as np\n",
    "import matplotlib.pyplot as plt\n",
    "\n",
    "from PIL import Image\n",
    "from IPython.display import display\n",
    "\n",
    "from sklearn.model_selection import train_test_split\n",
    "\n",
    "from sklearn.feature_extraction.text import CountVectorizer\n",
    "import nltk\n",
    "from nltk.corpus import stopwords"
   ]
  },
  {
   "cell_type": "markdown",
   "metadata": {},
   "source": [
    "The following databses were taken from the github repository https://github.com/Media-Bias-Group/Neural-Media-Bias-Detection-Using-Distant-Supervision-With-BABE published by Timo Spinde, Manuel Plank, Jan-David Krieger, Terry Ruas, Bela Gipp, and Akiko Aizawa as part of their 'Neural Media Bias Detection Using Distant Supervision With BABE - Bias Annotations By Experts' research paper DOI: 10.18653/v1/2021.findings-emnlp.101 (https://aclanthology.org/2021.findings-emnlp.101/)\n",
    "\n",
    "These databases include sentences from news articles with a respective 'bias'{'Non-biased', 'Biased', 'No agreement'} and 'opinion'{'Entirely factual', 'Somewhat factual but also opinionated', 'Expresses writer’s opinion', 'No agreement'} label given by majority vote from crowdsourcers, 8 'experts', and 5 'experts' respectively (experts as defined by the paper).\n",
    "\n",
    "Since this is a published paper and preliminery perusal of the databases re-enforce the confidence in the database correctly analysing each sentence. Therefore, this will be used to test the various methods to quantify bias within articles."
   ]
  },
  {
   "cell_type": "code",
   "execution_count": 26,
   "metadata": {},
   "outputs": [
    {
     "name": "stdout",
     "output_type": "stream",
     "text": [
      "(1700, 11) (1700, 8) (3674, 8)\n",
      "1700 1700 3674\n"
     ]
    }
   ],
   "source": [
    "# csv delimetered using ; instead of , need to adjust appropriately\n",
    "db1 = pd.read_csv(filepath_or_buffer='final_labels_MBIC.csv', sep = ';')\n",
    "# ['text', 'news_link', 'outlet', 'topic', 'type', 'group_id', 'num_sent', 'label_bias', 'label_opinion', 'article', 'biased_words']\n",
    "db2 = pd.read_csv(filepath_or_buffer='final_labels_SG1.csv', sep = ';')\n",
    "# ['text', 'news_link', 'outlet', 'topic', 'type', 'label_bias', 'label_opinion', 'biased_words']\n",
    "db3 = pd.read_csv(filepath_or_buffer='final_labels_SG2.csv', sep = ';')\n",
    "# ['text', 'news_link', 'outlet', 'topic', 'type', 'label_bias', 'label_opinion', 'biased_words']\n",
    "print(db1.shape, db2.shape, db3.shape)\n",
    "print(db1[\"text\"].nunique(), db2[\"text\"].nunique(), db3[\"text\"].nunique())"
   ]
  },
  {
   "cell_type": "code",
   "execution_count": 27,
   "metadata": {},
   "outputs": [
    {
     "name": "stdout",
     "output_type": "stream",
     "text": [
      "(7074, 1) 0    3682\n",
      "dtype: int64\n"
     ]
    }
   ],
   "source": [
    "uniqueTextdb = pd.DataFrame(db1[\"text\"].tolist() + db2[\"text\"].tolist() + db3[\"text\"].tolist())\n",
    "print(uniqueTextdb.shape, uniqueTextdb.nunique())\n",
    "# databases have duplicate data, db3 will be used"
   ]
  },
  {
   "cell_type": "code",
   "execution_count": 28,
   "metadata": {},
   "outputs": [
    {
     "data": {
      "text/html": [
       "<div>\n",
       "<style scoped>\n",
       "    .dataframe tbody tr th:only-of-type {\n",
       "        vertical-align: middle;\n",
       "    }\n",
       "\n",
       "    .dataframe tbody tr th {\n",
       "        vertical-align: top;\n",
       "    }\n",
       "\n",
       "    .dataframe thead th {\n",
       "        text-align: right;\n",
       "    }\n",
       "</style>\n",
       "<table border=\"1\" class=\"dataframe\">\n",
       "  <thead>\n",
       "    <tr style=\"text-align: right;\">\n",
       "      <th></th>\n",
       "      <th>text</th>\n",
       "      <th>label_bias</th>\n",
       "      <th>label_opinion</th>\n",
       "    </tr>\n",
       "  </thead>\n",
       "  <tbody>\n",
       "    <tr>\n",
       "      <th>0</th>\n",
       "      <td>\"Orange Is the New Black\" star Yael Stone is r...</td>\n",
       "      <td>Non-biased</td>\n",
       "      <td>Entirely factual</td>\n",
       "    </tr>\n",
       "    <tr>\n",
       "      <th>1</th>\n",
       "      <td>\"We have one beautiful law,\" Trump recently sa...</td>\n",
       "      <td>Biased</td>\n",
       "      <td>Somewhat factual but also opinionated</td>\n",
       "    </tr>\n",
       "    <tr>\n",
       "      <th>2</th>\n",
       "      <td>...immigrants as criminals and eugenics, all o...</td>\n",
       "      <td>Biased</td>\n",
       "      <td>Expresses writer’s opinion</td>\n",
       "    </tr>\n",
       "    <tr>\n",
       "      <th>3</th>\n",
       "      <td>...we sounded the alarm in the early months of...</td>\n",
       "      <td>Biased</td>\n",
       "      <td>Somewhat factual but also opinionated</td>\n",
       "    </tr>\n",
       "    <tr>\n",
       "      <th>4</th>\n",
       "      <td>[Black Lives Matter] is essentially a non-fals...</td>\n",
       "      <td>Biased</td>\n",
       "      <td>Expresses writer’s opinion</td>\n",
       "    </tr>\n",
       "    <tr>\n",
       "      <th>5</th>\n",
       "      <td>[Democrats employ] their full arsenal to deleg...</td>\n",
       "      <td>Biased</td>\n",
       "      <td>Expresses writer’s opinion</td>\n",
       "    </tr>\n",
       "    <tr>\n",
       "      <th>6</th>\n",
       "      <td>[Newsoms's] obsession with masks has created a...</td>\n",
       "      <td>Biased</td>\n",
       "      <td>Expresses writer’s opinion</td>\n",
       "    </tr>\n",
       "    <tr>\n",
       "      <th>7</th>\n",
       "      <td>[Newsoms's] onslaught of propaganda ignores co...</td>\n",
       "      <td>Biased</td>\n",
       "      <td>Expresses writer’s opinion</td>\n",
       "    </tr>\n",
       "    <tr>\n",
       "      <th>8</th>\n",
       "      <td>[The police] now prefer to think of themselves...</td>\n",
       "      <td>Biased</td>\n",
       "      <td>Expresses writer’s opinion</td>\n",
       "    </tr>\n",
       "    <tr>\n",
       "      <th>9</th>\n",
       "      <td>‘A new low’: Washington Post media critic blow...</td>\n",
       "      <td>Biased</td>\n",
       "      <td>Expresses writer’s opinion</td>\n",
       "    </tr>\n",
       "  </tbody>\n",
       "</table>\n",
       "</div>"
      ],
      "text/plain": [
       "                                                text  label_bias  \\\n",
       "0  \"Orange Is the New Black\" star Yael Stone is r...  Non-biased   \n",
       "1  \"We have one beautiful law,\" Trump recently sa...      Biased   \n",
       "2  ...immigrants as criminals and eugenics, all o...      Biased   \n",
       "3  ...we sounded the alarm in the early months of...      Biased   \n",
       "4  [Black Lives Matter] is essentially a non-fals...      Biased   \n",
       "5  [Democrats employ] their full arsenal to deleg...      Biased   \n",
       "6  [Newsoms's] obsession with masks has created a...      Biased   \n",
       "7  [Newsoms's] onslaught of propaganda ignores co...      Biased   \n",
       "8  [The police] now prefer to think of themselves...      Biased   \n",
       "9  ‘A new low’: Washington Post media critic blow...      Biased   \n",
       "\n",
       "                           label_opinion  \n",
       "0                       Entirely factual  \n",
       "1  Somewhat factual but also opinionated  \n",
       "2             Expresses writer’s opinion  \n",
       "3  Somewhat factual but also opinionated  \n",
       "4             Expresses writer’s opinion  \n",
       "5             Expresses writer’s opinion  \n",
       "6             Expresses writer’s opinion  \n",
       "7             Expresses writer’s opinion  \n",
       "8             Expresses writer’s opinion  \n",
       "9             Expresses writer’s opinion  "
      ]
     },
     "execution_count": 28,
     "metadata": {},
     "output_type": "execute_result"
    }
   ],
   "source": [
    "df = db3[[\"text\", \"label_bias\", \"label_opinion\"]]\n",
    "df.head(10)"
   ]
  },
  {
   "cell_type": "code",
   "execution_count": 29,
   "metadata": {},
   "outputs": [
    {
     "data": {
      "image/png": "[encoded data removed]",
      "text/plain": [
       "<Figure size 2000x1000 with 2 Axes>"
      ]
     },
     "metadata": {},
     "output_type": "display_data"
    }
   ],
   "source": [
    "fig, (ax1,ax2) = plt.subplots(1,2,figsize=(20,10))\n",
    "\n",
    "bias_distribution = df[\"label_bias\"].value_counts(dropna=False, normalize=True)\n",
    "ax1.pie(bias_distribution, autopct='%1.0f%%', pctdistance=0.8, radius=1, labels=df[\"label_bias\"].unique().tolist())\n",
    "ax1.set_title(\"bias distribution\")\n",
    "opinion_distribution = df[\"label_opinion\"].value_counts(dropna=False, normalize=True)\n",
    "ax2.pie(opinion_distribution, autopct='%1.0f%%', pctdistance=0.8, radius=1, labels=df[\"label_opinion\"].unique().tolist())\n",
    "ax2.set_title(\"opinion distribution\");"
   ]
  },
  {
   "cell_type": "code",
   "execution_count": 30,
   "metadata": {},
   "outputs": [
    {
     "name": "stdout",
     "output_type": "stream",
     "text": [
      "[0.5068045726728362, 0.0010887316276537834, 0.5070767555797496, 0.2901469787697333]\n"
     ]
    }
   ],
   "source": [
    "from vaderSentiment.vaderSentiment import SentimentIntensityAnalyzer as vaderSIA\n",
    "sid_obj = vaderSIA()\n",
    "\n",
    "biased = [[],[],[],[]]\n",
    "\n",
    "for i in df.index:\n",
    "    data = df.loc[i]\n",
    "    sentiment_dict = sid_obj.polarity_scores(data[\"text\"])\n",
    "    for index, key in enumerate(sentiment_dict.keys()):\n",
    "        value = 0\n",
    "        if abs(sentiment_dict[key]) <= 0.5 and data[\"label_bias\"] == \"Non-biased\":\n",
    "            biased[index].append(1)\n",
    "        else:\n",
    "            biased[index].append(0)\n",
    "\n",
    "print([sum(i)/len(i) for i in biased])"
   ]
  },
  {
   "cell_type": "markdown",
   "metadata": {},
   "source": [
    "As none of the resultant values are >0.5 it indicates that the sentiment analysis is bad at predicting bias."
   ]
  },
  {
   "cell_type": "markdown",
   "metadata": {},
   "source": [
    "# Machine Learning method to classify bias and opinion\n",
    "As the sentiment analysis didn't yield correct predictions of bias and as there are more than 2 (true, false) classes for 'opinion' (thus no logical/systematic way of classifying this using VADER); a more complex, machine learning based approach was devised.\n",
    "\n",
    "As the labeled 3674 datapoints are too little to develop a large scale model, semi-suppervised gaussiam mixture model (provides the ability of clustering with partically labeled data as well as probability based alowing for a more granular quantitative evaluation) can be used in conjuction with unlabeled articles taken from the 'All the news' public database (https://www.kaggle.com/datasets/snapcrack/all-the-news?select=articles1.csv), providing >50000 articles (multiple sentences each).\n",
    "\n",
    "The following DFD was developed to explain the following operations in developing the ML to predict both the bias and opinion of sentences in articles. This would then be used dynamically to calculate each 'new' article's biased and opinion score."
   ]
  },
  {
   "cell_type": "code",
   "execution_count": 31,
   "metadata": {},
   "outputs": [],
   "source": [
    "img = Image.open('MLDevelopmentFlowDiagram.png')\n",
    "# display(img)"
   ]
  },
  {
   "cell_type": "code",
   "execution_count": 32,
   "metadata": {},
   "outputs": [],
   "source": [
    "import re\n",
    "\n",
    "def clean_text(text): \n",
    "    text = re.sub(r\"<.*?>>*\", \" \", text) # removes html tags\n",
    "    text = re.sub(r\"&.*?;\", \" \", text) # removes html entities/symbols\n",
    "    text = re.sub(r\"[^A-Za-z']+\", \" \", text) # removes non-alphabetical characters\n",
    "    text = re.sub(r\" +\", \" \", text) # removes abnormal spaces introduced by previous regex\n",
    "    text = text.lower().strip() # converts text to lowercase\n",
    "    return text"
   ]
  },
  {
   "cell_type": "code",
   "execution_count": 33,
   "metadata": {},
   "outputs": [],
   "source": [
    "random_state = np.random.RandomState(11)\n",
    "X = df[\"text\"].apply(clean_text)\n",
    "y = df[\"label_bias\"]\n",
    "\n",
    "X_train, X_test, y_train, y_test = train_test_split(X, y, test_size=0.3, shuffle=True, random_state=random_state)"
   ]
  },
  {
   "cell_type": "code",
   "execution_count": 34,
   "metadata": {},
   "outputs": [
    {
     "name": "stderr",
     "output_type": "stream",
     "text": [
      "[nltk_data] Downloading package stopwords to\n",
      "[nltk_data]     C:\\Users\\ashri\\AppData\\Roaming\\nltk_data...\n",
      "[nltk_data]   Package stopwords is already up-to-date!\n"
     ]
    }
   ],
   "source": [
    "nltk.download('stopwords')\n",
    "stop_words = stopwords.words('english')"
   ]
  },
  {
   "cell_type": "code",
   "execution_count": 35,
   "metadata": {},
   "outputs": [],
   "source": [
    "vectorizer = CountVectorizer(stop_words=stop_words, max_df = 0.95)\n",
    "vectorizer.fit(X_train)\n",
    "X_train_BOW = vectorizer.transform(X_train)"
   ]
  },
  {
   "cell_type": "code",
   "execution_count": 36,
   "metadata": {},
   "outputs": [
    {
     "name": "stdout",
     "output_type": "stream",
     "text": [
      "Logisticregression:{'accuracy':0.6899365367180417, 'precision':0.7173489278752436, 'recall':0.6513274336283186, 'f1-score':0.696808510638298}\n"
     ]
    }
   ],
   "source": [
    "from sklearn.metrics import accuracy_score\n",
    "from sklearn.metrics import confusion_matrix\n",
    "from sklearn.metrics import f1_score\n",
    "from sklearn.linear_model import LogisticRegression\n",
    "\n",
    "log_reg = LogisticRegression(random_state=random_state)\n",
    "log_reg.fit(X_train_BOW, y_train)\n",
    "\n",
    "X_test_BOW = vectorizer.transform(X_test) # get Bag of Words for test data\n",
    "y_test_log_reg_predictions = log_reg.predict(X_test_BOW) # make prediction using log_reg object\n",
    "\n",
    "\n",
    "# logistic regression confusion matrix\n",
    "log_reg_cm = confusion_matrix(y_test, y_test_log_reg_predictions)\n",
    "log_reg_TN, log_reg_FP, log_reg_FN, log_reg_TP = log_reg_cm.ravel()\n",
    "\n",
    "log_reg_accuracy = accuracy_score(y_test, y_test_log_reg_predictions)\n",
    "log_reg_precision = log_reg_TN/(log_reg_TN+log_reg_FN)\n",
    "log_reg_recall = log_reg_TN/(log_reg_TN+log_reg_FP)\n",
    "log_reg_f1 = f1_score(y_test, y_test_log_reg_predictions, pos_label='Non-biased')\n",
    "\n",
    "print(\"Logisticregression:{{'accuracy':{0}, 'precision':{1}, 'recall':{2}, 'f1-score':{3}}}\".format(\n",
    "    log_reg_accuracy, log_reg_precision, log_reg_recall, log_reg_f1))"
   ]
  },
  {
   "cell_type": "code",
   "execution_count": 39,
   "metadata": {},
   "outputs": [
    {
     "name": "stdout",
     "output_type": "stream",
     "text": [
      "Logisticregression:{'accuracy':0.7171350861287398, 'precision':0.7304189435336976, 'recall':0.7097345132743362, 'f1-score':0.7142857142857143}\n"
     ]
    }
   ],
   "source": [
    "from sklearn import svm\n",
    "\n",
    "log_reg = svm.SVC(random_state=random_state)\n",
    "log_reg.fit(X_train_BOW, y_train)\n",
    "\n",
    "X_test_BOW = vectorizer.transform(X_test)\n",
    "y_test_log_reg_predictions = log_reg.predict(X_test_BOW)\n",
    "\n",
    "log_reg_cm = confusion_matrix(y_test, y_test_log_reg_predictions)\n",
    "log_reg_TN, log_reg_FP, log_reg_FN, log_reg_TP = log_reg_cm.ravel()\n",
    "\n",
    "log_reg_accuracy = accuracy_score(y_test, y_test_log_reg_predictions)\n",
    "log_reg_precision = log_reg_TN/(log_reg_TN+log_reg_FN)\n",
    "log_reg_recall = log_reg_TN/(log_reg_TN+log_reg_FP)\n",
    "log_reg_f1 = f1_score(y_test, y_test_log_reg_predictions, pos_label='Non-biased')\n",
    "\n",
    "print(\"Logisticregression:{{'accuracy':{0}, 'precision':{1}, 'recall':{2}, 'f1-score':{3}}}\".format(\n",
    "    log_reg_accuracy, log_reg_precision, log_reg_recall, log_reg_f1))"
   ]
  },
  {
   "cell_type": "code",
   "execution_count": 44,
   "metadata": {},
   "outputs": [
    {
     "name": "stderr",
     "output_type": "stream",
     "text": [
      "[nltk_data] Downloading package stopwords to\n",
      "[nltk_data]     C:\\Users\\ashri\\AppData\\Roaming\\nltk_data...\n",
      "[nltk_data]   Package stopwords is already up-to-date!\n"
     ]
    },
    {
     "data": {
      "text/html": [
       "<style>#sk-container-id-5 {color: black;}#sk-container-id-5 pre{padding: 0;}#sk-container-id-5 div.sk-toggleable {background-color: white;}#sk-container-id-5 label.sk-toggleable__label {cursor: pointer;display: block;width: 100%;margin-bottom: 0;padding: 0.3em;box-sizing: border-box;text-align: center;}#sk-container-id-5 label.sk-toggleable__label-arrow:before {content: \"▸\";float: left;margin-right: 0.25em;color: #696969;}#sk-container-id-5 label.sk-toggleable__label-arrow:hover:before {color: black;}#sk-container-id-5 div.sk-estimator:hover label.sk-toggleable__label-arrow:before {color: black;}#sk-container-id-5 div.sk-toggleable__content {max-height: 0;max-width: 0;overflow: hidden;text-align: left;background-color: #f0f8ff;}#sk-container-id-5 div.sk-toggleable__content pre {margin: 0.2em;color: black;border-radius: 0.25em;background-color: #f0f8ff;}#sk-container-id-5 input.sk-toggleable__control:checked~div.sk-toggleable__content {max-height: 200px;max-width: 100%;overflow: auto;}#sk-container-id-5 input.sk-toggleable__control:checked~label.sk-toggleable__label-arrow:before {content: \"▾\";}#sk-container-id-5 div.sk-estimator input.sk-toggleable__control:checked~label.sk-toggleable__label {background-color: #d4ebff;}#sk-container-id-5 div.sk-label input.sk-toggleable__control:checked~label.sk-toggleable__label {background-color: #d4ebff;}#sk-container-id-5 input.sk-hidden--visually {border: 0;clip: rect(1px 1px 1px 1px);clip: rect(1px, 1px, 1px, 1px);height: 1px;margin: -1px;overflow: hidden;padding: 0;position: absolute;width: 1px;}#sk-container-id-5 div.sk-estimator {font-family: monospace;background-color: #f0f8ff;border: 1px dotted black;border-radius: 0.25em;box-sizing: border-box;margin-bottom: 0.5em;}#sk-container-id-5 div.sk-estimator:hover {background-color: #d4ebff;}#sk-container-id-5 div.sk-parallel-item::after {content: \"\";width: 100%;border-bottom: 1px solid gray;flex-grow: 1;}#sk-container-id-5 div.sk-label:hover label.sk-toggleable__label {background-color: #d4ebff;}#sk-container-id-5 div.sk-serial::before {content: \"\";position: absolute;border-left: 1px solid gray;box-sizing: border-box;top: 0;bottom: 0;left: 50%;z-index: 0;}#sk-container-id-5 div.sk-serial {display: flex;flex-direction: column;align-items: center;background-color: white;padding-right: 0.2em;padding-left: 0.2em;position: relative;}#sk-container-id-5 div.sk-item {position: relative;z-index: 1;}#sk-container-id-5 div.sk-parallel {display: flex;align-items: stretch;justify-content: center;background-color: white;position: relative;}#sk-container-id-5 div.sk-item::before, #sk-container-id-5 div.sk-parallel-item::before {content: \"\";position: absolute;border-left: 1px solid gray;box-sizing: border-box;top: 0;bottom: 0;left: 50%;z-index: -1;}#sk-container-id-5 div.sk-parallel-item {display: flex;flex-direction: column;z-index: 1;position: relative;background-color: white;}#sk-container-id-5 div.sk-parallel-item:first-child::after {align-self: flex-end;width: 50%;}#sk-container-id-5 div.sk-parallel-item:last-child::after {align-self: flex-start;width: 50%;}#sk-container-id-5 div.sk-parallel-item:only-child::after {width: 0;}#sk-container-id-5 div.sk-dashed-wrapped {border: 1px dashed gray;margin: 0 0.4em 0.5em 0.4em;box-sizing: border-box;padding-bottom: 0.4em;background-color: white;}#sk-container-id-5 div.sk-label label {font-family: monospace;font-weight: bold;display: inline-block;line-height: 1.2em;}#sk-container-id-5 div.sk-label-container {text-align: center;}#sk-container-id-5 div.sk-container {/* jupyter's `normalize.less` sets `[hidden] { display: none; }` but bootstrap.min.css set `[hidden] { display: none !important; }` so we also need the `!important` here to be able to override the default hidden behavior on the sphinx rendered scikit-learn.org. See: https://github.com/scikit-learn/scikit-learn/issues/21755 */display: inline-block !important;position: relative;}#sk-container-id-5 div.sk-text-repr-fallback {display: none;}</style><div id=\"sk-container-id-5\" class=\"sk-top-container\"><div class=\"sk-text-repr-fallback\"><pre>SVC(random_state=RandomState(MT19937) at 0x226B1F91A40)</pre><b>In a Jupyter environment, please rerun this cell to show the HTML representation or trust the notebook. <br />On GitHub, the HTML representation is unable to render, please try loading this page with nbviewer.org.</b></div><div class=\"sk-container\" hidden><div class=\"sk-item\"><div class=\"sk-estimator sk-toggleable\"><input class=\"sk-toggleable__control sk-hidden--visually\" id=\"sk-estimator-id-5\" type=\"checkbox\" checked><label for=\"sk-estimator-id-5\" class=\"sk-toggleable__label sk-toggleable__label-arrow\">SVC</label><div class=\"sk-toggleable__content\"><pre>SVC(random_state=RandomState(MT19937) at 0x226B1F91A40)</pre></div></div></div></div></div>"
      ],
      "text/plain": [
       "SVC(random_state=RandomState(MT19937) at 0x226B1F91A40)"
      ]
     },
     "execution_count": 44,
     "metadata": {},
     "output_type": "execute_result"
    }
   ],
   "source": [
    "import pandas as pd\n",
    "import numpy as np\n",
    "\n",
    "db = pd.read_csv(filepath_or_buffer='final_labels_SG2.csv', sep = ';')\n",
    "df = db[[\"text\", \"label_bias\", \"label_opinion\"]]\n",
    "\n",
    "random_state = np.random.RandomState(11)\n",
    "\n",
    "import re\n",
    "\n",
    "def clean_text(text): \n",
    "    text = re.sub(r\"<.*?>>*\", \" \", text) # removes html tags\n",
    "    text = re.sub(r\"&.*?;\", \" \", text) # removes html entities/symbols\n",
    "    text = re.sub(r\"[^A-Za-z']+\", \" \", text) # removes non-alphabetical characters\n",
    "    text = re.sub(r\" +\", \" \", text) # removes abnormal spaces introduced by previous regex\n",
    "    text = text.lower().strip() # converts text to lowercase\n",
    "    return text\n",
    "\n",
    "X = df[\"text\"].apply(clean_text)\n",
    "y_bias = df[\"label_bias\"]\n",
    "y_opinion = df[\"label_opinion\"]\n",
    "\n",
    "from sklearn.model_selection import train_test_split\n",
    "\n",
    "X_train_bias, X_test_bias, y_train_bias, y_test_bias = train_test_split(X, y_bias, test_size=0.1, shuffle=True, random_state=random_state)\n",
    "X_train_opinion, X_test_opinion, y_train_opinion, y_test_opinion = train_test_split(X, y_opinion, test_size=0.1, shuffle=True, random_state=random_state)\n",
    "\n",
    "from sklearn.feature_extraction.text import CountVectorizer\n",
    "import nltk\n",
    "from nltk.corpus import stopwords\n",
    "nltk.download('stopwords')\n",
    "stop_words = stopwords.words('english')\n",
    "\n",
    "vectorizer = CountVectorizer(stop_words=stop_words, max_df = 0.95)\n",
    "vectorizer.fit(X_train_bias)\n",
    "X_train_bias_BOW = vectorizer.transform(X_train_bias)\n",
    "X_train_opinion_BOW = vectorizer.transform(X_train_opinion)\n",
    "\n",
    "from sklearn import svm\n",
    "svcBias = svm.SVC(random_state=random_state)\n",
    "svcBias.fit(X_train_bias_BOW, y_train_bias)\n",
    "svcOpinion = svm.SVC(random_state=random_state)\n",
    "svcOpinion.fit(X_train_opinion_BOW, y_train_opinion)\n",
    "\n",
    "import pickle\n",
    "pickle.dump(vectorizer, open('vectorizer.sav', 'wb'))\n",
    "pickle.dump(svcBias, open('svcBias.sav', 'wb'))\n",
    "pickle.dump(svcOpinion, open('svcOpinion.sav', 'wb'))"
   ]
  },
  {
   "cell_type": "code",
   "execution_count": 42,
   "metadata": {},
   "outputs": [],
   "source": [
    "import pickle\n",
    "loaded_vectorizer = pickle.load(open('vectorizer.sav', 'rb'))\n",
    "loaded_svcBias = pickle.load(open('svcBias.sav', 'rb'))\n",
    "loaded_svcOpinion = pickle.load(open('svcOpinion.sav', 'rb'))\n",
    "\n",
    "X_test_bias_BOW = loaded_vectorizer.transform(X_test_bias)\n",
    "y_test_bias_predictions = loaded_svcBias.predict(X_test_bias_BOW)"
   ]
  }
 ],
 "metadata": {
  "kernelspec": {
   "display_name": "Python 3",
   "language": "python",
   "name": "python3"
  },
  "language_info": {
   "codemirror_mode": {
    "name": "ipython",
    "version": 3
   },
   "file_extension": ".py",
   "mimetype": "text/x-python",
   "name": "python",
   "nbconvert_exporter": "python",
   "pygments_lexer": "ipython3",
   "version": "3.10.2"
  },
  "orig_nbformat": 4
 },
 "nbformat": 4,
 "nbformat_minor": 2
}
